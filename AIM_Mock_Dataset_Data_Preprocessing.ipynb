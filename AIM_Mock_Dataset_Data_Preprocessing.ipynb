{
  "nbformat": 4,
  "nbformat_minor": 0,
  "metadata": {
    "colab": {
      "name": "AIM Mock Dataset Data Preprocessing.ipynb",
      "provenance": []
    },
    "kernelspec": {
      "name": "python3",
      "display_name": "Python 3"
    },
    "language_info": {
      "name": "python"
    }
  },
  "cells": [
    {
      "cell_type": "code",
      "execution_count": null,
      "metadata": {
        "id": "V1cbd1xtAH84"
      },
      "outputs": [],
      "source": [
        "# Importing library\n",
        "import pandas as pd"
      ]
    },
    {
      "cell_type": "code",
      "source": [
        "# Reading dataset\n",
        "data = pd.read_csv('https://raw.githubusercontent.com/analyticsindiamagazine/MocksDatasets/main/Customer_Missing.csv')\n",
        "data.head()"
      ],
      "metadata": {
        "colab": {
          "base_uri": "https://localhost:8080/",
          "height": 270
        },
        "id": "vxY7EsdsARzg",
        "outputId": "277c303b-77e0-4b5d-bd5d-e132951be2d3"
      },
      "execution_count": null,
      "outputs": [
        {
          "output_type": "execute_result",
          "data": {
            "text/plain": [
              "   S.No.  Cust_ID  Cust_City  Cust_Age  Cust_Fam_Memb  Cust_Month_Income  \\\n",
              "0      1   100089  Bangalore      51.0            3.0           170000.0   \n",
              "1      2   100018  Bangalore      39.0            2.0           195000.0   \n",
              "2      3   100070  Hyderabad       NaN            3.0           103333.0   \n",
              "3      4   100090  Bangalore      34.0            4.0            85000.0   \n",
              "4      5   100016  Bangalore      22.0            6.0                NaN   \n",
              "\n",
              "   Cust_Purchase  \n",
              "0        28333.0  \n",
              "1            NaN  \n",
              "2        17222.0  \n",
              "3        10625.0  \n",
              "4         3055.0  "
            ],
            "text/html": [
              "\n",
              "  <div id=\"df-e9513844-316d-4781-9919-0b2182fe415f\">\n",
              "    <div class=\"colab-df-container\">\n",
              "      <div>\n",
              "<style scoped>\n",
              "    .dataframe tbody tr th:only-of-type {\n",
              "        vertical-align: middle;\n",
              "    }\n",
              "\n",
              "    .dataframe tbody tr th {\n",
              "        vertical-align: top;\n",
              "    }\n",
              "\n",
              "    .dataframe thead th {\n",
              "        text-align: right;\n",
              "    }\n",
              "</style>\n",
              "<table border=\"1\" class=\"dataframe\">\n",
              "  <thead>\n",
              "    <tr style=\"text-align: right;\">\n",
              "      <th></th>\n",
              "      <th>S.No.</th>\n",
              "      <th>Cust_ID</th>\n",
              "      <th>Cust_City</th>\n",
              "      <th>Cust_Age</th>\n",
              "      <th>Cust_Fam_Memb</th>\n",
              "      <th>Cust_Month_Income</th>\n",
              "      <th>Cust_Purchase</th>\n",
              "    </tr>\n",
              "  </thead>\n",
              "  <tbody>\n",
              "    <tr>\n",
              "      <th>0</th>\n",
              "      <td>1</td>\n",
              "      <td>100089</td>\n",
              "      <td>Bangalore</td>\n",
              "      <td>51.0</td>\n",
              "      <td>3.0</td>\n",
              "      <td>170000.0</td>\n",
              "      <td>28333.0</td>\n",
              "    </tr>\n",
              "    <tr>\n",
              "      <th>1</th>\n",
              "      <td>2</td>\n",
              "      <td>100018</td>\n",
              "      <td>Bangalore</td>\n",
              "      <td>39.0</td>\n",
              "      <td>2.0</td>\n",
              "      <td>195000.0</td>\n",
              "      <td>NaN</td>\n",
              "    </tr>\n",
              "    <tr>\n",
              "      <th>2</th>\n",
              "      <td>3</td>\n",
              "      <td>100070</td>\n",
              "      <td>Hyderabad</td>\n",
              "      <td>NaN</td>\n",
              "      <td>3.0</td>\n",
              "      <td>103333.0</td>\n",
              "      <td>17222.0</td>\n",
              "    </tr>\n",
              "    <tr>\n",
              "      <th>3</th>\n",
              "      <td>4</td>\n",
              "      <td>100090</td>\n",
              "      <td>Bangalore</td>\n",
              "      <td>34.0</td>\n",
              "      <td>4.0</td>\n",
              "      <td>85000.0</td>\n",
              "      <td>10625.0</td>\n",
              "    </tr>\n",
              "    <tr>\n",
              "      <th>4</th>\n",
              "      <td>5</td>\n",
              "      <td>100016</td>\n",
              "      <td>Bangalore</td>\n",
              "      <td>22.0</td>\n",
              "      <td>6.0</td>\n",
              "      <td>NaN</td>\n",
              "      <td>3055.0</td>\n",
              "    </tr>\n",
              "  </tbody>\n",
              "</table>\n",
              "</div>\n",
              "      <button class=\"colab-df-convert\" onclick=\"convertToInteractive('df-e9513844-316d-4781-9919-0b2182fe415f')\"\n",
              "              title=\"Convert this dataframe to an interactive table.\"\n",
              "              style=\"display:none;\">\n",
              "        \n",
              "  <svg xmlns=\"http://www.w3.org/2000/svg\" height=\"24px\"viewBox=\"0 0 24 24\"\n",
              "       width=\"24px\">\n",
              "    <path d=\"M0 0h24v24H0V0z\" fill=\"none\"/>\n",
              "    <path d=\"M18.56 5.44l.94 2.06.94-2.06 2.06-.94-2.06-.94-.94-2.06-.94 2.06-2.06.94zm-11 1L8.5 8.5l.94-2.06 2.06-.94-2.06-.94L8.5 2.5l-.94 2.06-2.06.94zm10 10l.94 2.06.94-2.06 2.06-.94-2.06-.94-.94-2.06-.94 2.06-2.06.94z\"/><path d=\"M17.41 7.96l-1.37-1.37c-.4-.4-.92-.59-1.43-.59-.52 0-1.04.2-1.43.59L10.3 9.45l-7.72 7.72c-.78.78-.78 2.05 0 2.83L4 21.41c.39.39.9.59 1.41.59.51 0 1.02-.2 1.41-.59l7.78-7.78 2.81-2.81c.8-.78.8-2.07 0-2.86zM5.41 20L4 18.59l7.72-7.72 1.47 1.35L5.41 20z\"/>\n",
              "  </svg>\n",
              "      </button>\n",
              "      \n",
              "  <style>\n",
              "    .colab-df-container {\n",
              "      display:flex;\n",
              "      flex-wrap:wrap;\n",
              "      gap: 12px;\n",
              "    }\n",
              "\n",
              "    .colab-df-convert {\n",
              "      background-color: #E8F0FE;\n",
              "      border: none;\n",
              "      border-radius: 50%;\n",
              "      cursor: pointer;\n",
              "      display: none;\n",
              "      fill: #1967D2;\n",
              "      height: 32px;\n",
              "      padding: 0 0 0 0;\n",
              "      width: 32px;\n",
              "    }\n",
              "\n",
              "    .colab-df-convert:hover {\n",
              "      background-color: #E2EBFA;\n",
              "      box-shadow: 0px 1px 2px rgba(60, 64, 67, 0.3), 0px 1px 3px 1px rgba(60, 64, 67, 0.15);\n",
              "      fill: #174EA6;\n",
              "    }\n",
              "\n",
              "    [theme=dark] .colab-df-convert {\n",
              "      background-color: #3B4455;\n",
              "      fill: #D2E3FC;\n",
              "    }\n",
              "\n",
              "    [theme=dark] .colab-df-convert:hover {\n",
              "      background-color: #434B5C;\n",
              "      box-shadow: 0px 1px 3px 1px rgba(0, 0, 0, 0.15);\n",
              "      filter: drop-shadow(0px 1px 2px rgba(0, 0, 0, 0.3));\n",
              "      fill: #FFFFFF;\n",
              "    }\n",
              "  </style>\n",
              "\n",
              "      <script>\n",
              "        const buttonEl =\n",
              "          document.querySelector('#df-e9513844-316d-4781-9919-0b2182fe415f button.colab-df-convert');\n",
              "        buttonEl.style.display =\n",
              "          google.colab.kernel.accessAllowed ? 'block' : 'none';\n",
              "\n",
              "        async function convertToInteractive(key) {\n",
              "          const element = document.querySelector('#df-e9513844-316d-4781-9919-0b2182fe415f');\n",
              "          const dataTable =\n",
              "            await google.colab.kernel.invokeFunction('convertToInteractive',\n",
              "                                                     [key], {});\n",
              "          if (!dataTable) return;\n",
              "\n",
              "          const docLinkHtml = 'Like what you see? Visit the ' +\n",
              "            '<a target=\"_blank\" href=https://colab.research.google.com/notebooks/data_table.ipynb>data table notebook</a>'\n",
              "            + ' to learn more about interactive tables.';\n",
              "          element.innerHTML = '';\n",
              "          dataTable['output_type'] = 'display_data';\n",
              "          await google.colab.output.renderOutput(dataTable, element);\n",
              "          const docLink = document.createElement('div');\n",
              "          docLink.innerHTML = docLinkHtml;\n",
              "          element.appendChild(docLink);\n",
              "        }\n",
              "      </script>\n",
              "    </div>\n",
              "  </div>\n",
              "  "
            ]
          },
          "metadata": {},
          "execution_count": 2
        }
      ]
    },
    {
      "cell_type": "code",
      "source": [
        "# As we can see the dataset comprises details such as cutomer_city, cutomer_age, etc. let’s check the shape of the data\n",
        "data.shape"
      ],
      "metadata": {
        "colab": {
          "base_uri": "https://localhost:8080/"
        },
        "id": "D3CD1NcGActe",
        "outputId": "ed4ce86d-4df1-46a9-aafa-39eff1297830"
      },
      "execution_count": null,
      "outputs": [
        {
          "output_type": "execute_result",
          "data": {
            "text/plain": [
              "(20, 7)"
            ]
          },
          "metadata": {},
          "execution_count": 3
        }
      ]
    },
    {
      "cell_type": "code",
      "source": [
        "# Now we will first check the missing values present in the dataset.\n",
        "# Data information\n",
        "data.info()"
      ],
      "metadata": {
        "colab": {
          "base_uri": "https://localhost:8080/"
        },
        "id": "sfIpd6u7Am2y",
        "outputId": "794b9758-4455-4731-f4b6-f84b97a0c976"
      },
      "execution_count": null,
      "outputs": [
        {
          "output_type": "stream",
          "name": "stdout",
          "text": [
            "<class 'pandas.core.frame.DataFrame'>\n",
            "RangeIndex: 20 entries, 0 to 19\n",
            "Data columns (total 7 columns):\n",
            " #   Column             Non-Null Count  Dtype  \n",
            "---  ------             --------------  -----  \n",
            " 0   S.No.              20 non-null     int64  \n",
            " 1   Cust_ID            20 non-null     int64  \n",
            " 2   Cust_City          18 non-null     object \n",
            " 3   Cust_Age           18 non-null     float64\n",
            " 4   Cust_Fam_Memb      19 non-null     float64\n",
            " 5   Cust_Month_Income  18 non-null     float64\n",
            " 6   Cust_Purchase      18 non-null     float64\n",
            "dtypes: float64(4), int64(2), object(1)\n",
            "memory usage: 1.2+ KB\n"
          ]
        }
      ]
    },
    {
      "cell_type": "code",
      "source": [
        "# As we can there are some missing values present in the dataset in both categorical and numerical columns. Let’s check the sum of all missing values.\n",
        "# Missing values in each column\n",
        "data.isnull().sum()"
      ],
      "metadata": {
        "colab": {
          "base_uri": "https://localhost:8080/"
        },
        "id": "t2GK68zvAt6s",
        "outputId": "3d58f06c-bf18-4201-d823-db6cdcab4401"
      },
      "execution_count": null,
      "outputs": [
        {
          "output_type": "execute_result",
          "data": {
            "text/plain": [
              "S.No.                0\n",
              "Cust_ID              0\n",
              "Cust_City            2\n",
              "Cust_Age             2\n",
              "Cust_Fam_Memb        1\n",
              "Cust_Month_Income    2\n",
              "Cust_Purchase        2\n",
              "dtype: int64"
            ]
          },
          "metadata": {},
          "execution_count": 5
        }
      ]
    },
    {
      "cell_type": "code",
      "source": [
        "'''\n",
        "Out of 7 columns, 5 columns have some null values. To move further with these columns we have two options either dropping all missing values or imputing the missing values. \n",
        "Dropping is advisable when data 2% to 5% missing values but in our case, we have nearly 55% missing values. So it is better to impute the values.\n",
        "Before imputation of values let’s create a copy of the existing dataset so that we can utilise the original representation later for some other methods of imputation.\n",
        "'''\n",
        "# Creating a copy of df\n",
        "data2 = data.copy()"
      ],
      "metadata": {
        "id": "UiLE4_loBO-Z"
      },
      "execution_count": null,
      "outputs": []
    },
    {
      "cell_type": "code",
      "source": [
        "# Let's find out the missing values in the customer age column.\n",
        "# Missing values of a feature\n",
        "data['Cust_Age'].isnull().sum()"
      ],
      "metadata": {
        "colab": {
          "base_uri": "https://localhost:8080/"
        },
        "id": "-mjSxkHMBnIl",
        "outputId": "e1f9c357-3e6a-400a-e9af-0e82fb7b3ffe"
      },
      "execution_count": null,
      "outputs": [
        {
          "output_type": "execute_result",
          "data": {
            "text/plain": [
              "2"
            ]
          },
          "metadata": {},
          "execution_count": 7
        }
      ]
    },
    {
      "cell_type": "code",
      "source": [
        "# Let's check the missing values with their indexed positions.\n",
        "\n",
        "data['Cust_Age']"
      ],
      "metadata": {
        "colab": {
          "base_uri": "https://localhost:8080/"
        },
        "id": "JgqKqIaUCCti",
        "outputId": "8a4033c0-f1c9-46a9-94a0-47bbcd6427df"
      },
      "execution_count": null,
      "outputs": [
        {
          "output_type": "execute_result",
          "data": {
            "text/plain": [
              "0     51.0\n",
              "1     39.0\n",
              "2      NaN\n",
              "3     34.0\n",
              "4     22.0\n",
              "5     35.0\n",
              "6     30.0\n",
              "7      NaN\n",
              "8     30.0\n",
              "9     25.0\n",
              "10    43.0\n",
              "11    41.0\n",
              "12    42.0\n",
              "13    51.0\n",
              "14    24.0\n",
              "15    44.0\n",
              "16    26.0\n",
              "17    39.0\n",
              "18    33.0\n",
              "19    39.0\n",
              "Name: Cust_Age, dtype: float64"
            ]
          },
          "metadata": {},
          "execution_count": 8
        }
      ]
    },
    {
      "cell_type": "code",
      "source": [
        "'''\n",
        "Now first will impute the missing value from column cust_age. \n",
        "It is continuous features, so the appropriate value to impute the missing value by mean value. \n",
        "Let’s calculate the mean value first.\n",
        "\n",
        "'''\n",
        "# Mean of the feature values\n",
        "age_mean = data['Cust_Age'].mean()\n",
        "print(age_mean)"
      ],
      "metadata": {
        "colab": {
          "base_uri": "https://localhost:8080/"
        },
        "id": "vVyQJ9t0CKM4",
        "outputId": "960af3b4-16fc-420b-e833-ac1c0c20c785"
      },
      "execution_count": null,
      "outputs": [
        {
          "output_type": "stream",
          "name": "stdout",
          "text": [
            "36.0\n"
          ]
        }
      ]
    },
    {
      "cell_type": "code",
      "source": [
        "'''\n",
        "Let’s now impute the missing values by mean as shown below,\n",
        "\n",
        "'''\n",
        "# Filling missing values with mean\n",
        "data['Cust_Age'] = data['Cust_Age'].fillna(value = age_mean)\n",
        "data['Cust_Age']"
      ],
      "metadata": {
        "colab": {
          "base_uri": "https://localhost:8080/"
        },
        "id": "znX5lcwMCvgu",
        "outputId": "17295035-b6ce-4c5c-9bb8-1c7c80e3cf18"
      },
      "execution_count": null,
      "outputs": [
        {
          "output_type": "execute_result",
          "data": {
            "text/plain": [
              "0     51.0\n",
              "1     39.0\n",
              "2     36.0\n",
              "3     34.0\n",
              "4     22.0\n",
              "5     35.0\n",
              "6     30.0\n",
              "7     36.0\n",
              "8     30.0\n",
              "9     25.0\n",
              "10    43.0\n",
              "11    41.0\n",
              "12    42.0\n",
              "13    51.0\n",
              "14    24.0\n",
              "15    44.0\n",
              "16    26.0\n",
              "17    39.0\n",
              "18    33.0\n",
              "19    39.0\n",
              "Name: Cust_Age, dtype: float64"
            ]
          },
          "metadata": {},
          "execution_count": 11
        }
      ]
    },
    {
      "cell_type": "code",
      "source": [
        "'''\n",
        "Now we have successfully imputed the missing values for the Cust_age, next we impute the missing value for column Cust_city. \n",
        "Since it is a categorical column the measure to impute the value is the mode. Mode represents the most frequent value in a particular column.  \n",
        "\n",
        "Below is the representation of the feature before imputing with mode value. \n",
        "'''\n",
        "data[\"Cust_City\"]"
      ],
      "metadata": {
        "colab": {
          "base_uri": "https://localhost:8080/"
        },
        "id": "Z_EepjD7DWt6",
        "outputId": "081b6d9b-0390-4a54-ac15-f1e895315741"
      },
      "execution_count": null,
      "outputs": [
        {
          "output_type": "execute_result",
          "data": {
            "text/plain": [
              "0     Bangalore\n",
              "1     Bangalore\n",
              "2     Hyderabad\n",
              "3     Bangalore\n",
              "4     Bangalore\n",
              "5     Hyderabad\n",
              "6     Bangalore\n",
              "7           NaN\n",
              "8     Bangalore\n",
              "9          Pune\n",
              "10    Bangalore\n",
              "11    Hyderabad\n",
              "12    Bangalore\n",
              "13         Pune\n",
              "14    Hyderabad\n",
              "15    Bangalore\n",
              "16    Bangalore\n",
              "17          NaN\n",
              "18    Bangalore\n",
              "19    Bangalore\n",
              "Name: Cust_City, dtype: object"
            ]
          },
          "metadata": {},
          "execution_count": 12
        }
      ]
    },
    {
      "cell_type": "code",
      "source": [
        "# Now imputing with mode value. \n",
        "\n",
        "city_mode = data['Cust_City'].mode()\n",
        "print(city_mode)"
      ],
      "metadata": {
        "id": "gdn-JStCEoGJ",
        "colab": {
          "base_uri": "https://localhost:8080/"
        },
        "outputId": "28e3f5a5-657e-48dd-df56-b72a0d65ed59"
      },
      "execution_count": 13,
      "outputs": [
        {
          "output_type": "stream",
          "name": "stdout",
          "text": [
            "0    Bangalore\n",
            "dtype: object\n"
          ]
        }
      ]
    },
    {
      "cell_type": "code",
      "source": [
        "# Filling missing values with mode\n",
        "data['Cust_City'] = data['Cust_City'].fillna(value = city_mode[0])\n",
        "data['Cust_City']\n"
      ],
      "metadata": {
        "colab": {
          "base_uri": "https://localhost:8080/"
        },
        "id": "XS512viOImno",
        "outputId": "43f41e1f-e18b-468b-adf7-636a85c53c6c"
      },
      "execution_count": 14,
      "outputs": [
        {
          "output_type": "execute_result",
          "data": {
            "text/plain": [
              "0     Bangalore\n",
              "1     Bangalore\n",
              "2     Hyderabad\n",
              "3     Bangalore\n",
              "4     Bangalore\n",
              "5     Hyderabad\n",
              "6     Bangalore\n",
              "7     Bangalore\n",
              "8     Bangalore\n",
              "9          Pune\n",
              "10    Bangalore\n",
              "11    Hyderabad\n",
              "12    Bangalore\n",
              "13         Pune\n",
              "14    Hyderabad\n",
              "15    Bangalore\n",
              "16    Bangalore\n",
              "17    Bangalore\n",
              "18    Bangalore\n",
              "19    Bangalore\n",
              "Name: Cust_City, dtype: object"
            ]
          },
          "metadata": {},
          "execution_count": 14
        }
      ]
    },
    {
      "cell_type": "code",
      "source": [
        "'''\n",
        "\n",
        "Above we have successfully imputed the categorical missing value by mode. \n",
        "\n",
        "So far we have imputed missing values for two columns, still, we have left 3 features to be imputed out of which one is a categorical feature and two are continuous features. Let’s impute those all in a single shot.   \n",
        "\n",
        "Now let’s check the missing values present inside the dataset. \n",
        "\n",
        "'''\n",
        "data.isnull().sum()"
      ],
      "metadata": {
        "colab": {
          "base_uri": "https://localhost:8080/"
        },
        "id": "KTnDQoRFJQJy",
        "outputId": "e228a807-0142-467f-edb3-dbd538de13b6"
      },
      "execution_count": 15,
      "outputs": [
        {
          "output_type": "execute_result",
          "data": {
            "text/plain": [
              "S.No.                0\n",
              "Cust_ID              0\n",
              "Cust_City            0\n",
              "Cust_Age             0\n",
              "Cust_Fam_Memb        1\n",
              "Cust_Month_Income    2\n",
              "Cust_Purchase        2\n",
              "dtype: int64"
            ]
          },
          "metadata": {},
          "execution_count": 15
        }
      ]
    },
    {
      "cell_type": "code",
      "source": [
        "# Now, we will fill all the remaining missing values together.\n",
        "\n",
        "# Filling all mising values\n",
        "data['Cust_Fam_Memb'] = data['Cust_Fam_Memb'].fillna(value = data['Cust_Fam_Memb'].mode()[0])\n",
        "data['Cust_Month_Income'] = data['Cust_Month_Income'].fillna(value = data['Cust_Month_Income'].mean())\n",
        "data['Cust_Purchase'] = data['Cust_Purchase'].fillna(value = data['Cust_Purchase'].mean())"
      ],
      "metadata": {
        "id": "FJq41P_OJ28W"
      },
      "execution_count": 17,
      "outputs": []
    },
    {
      "cell_type": "code",
      "source": [
        "# Let's check the sum of all the missing values across the columns.\n",
        "\n",
        "data.isnull().sum()"
      ],
      "metadata": {
        "colab": {
          "base_uri": "https://localhost:8080/"
        },
        "id": "FB-tK6JAQQes",
        "outputId": "d01a16f4-e7de-46ba-cf3b-38e0d8f7717f"
      },
      "execution_count": 18,
      "outputs": [
        {
          "output_type": "execute_result",
          "data": {
            "text/plain": [
              "S.No.                0\n",
              "Cust_ID              0\n",
              "Cust_City            0\n",
              "Cust_Age             0\n",
              "Cust_Fam_Memb        0\n",
              "Cust_Month_Income    0\n",
              "Cust_Purchase        0\n",
              "dtype: int64"
            ]
          },
          "metadata": {},
          "execution_count": 18
        }
      ]
    },
    {
      "cell_type": "code",
      "source": [
        "'''\n",
        "You can see that we have successfully imputed all the missing values. \n",
        "\n",
        "Another method to impute the missing value is by using SimpleImputer class provided by the sklearn library. Now to impute the missing values we will use earlier copied data.  \n",
        "\n",
        "For demonstration, we impute missing values from the column Cust_month_income. The before imputation distribution looks like the below.\n",
        "\n",
        "'''\n",
        "data2['Cust_Month_Income']"
      ],
      "metadata": {
        "colab": {
          "base_uri": "https://localhost:8080/"
        },
        "id": "j3r2a_nWQVop",
        "outputId": "188b5f9a-77e4-444f-80ba-e79724c66a4a"
      },
      "execution_count": 19,
      "outputs": [
        {
          "output_type": "execute_result",
          "data": {
            "text/plain": [
              "0     170000.0\n",
              "1     195000.0\n",
              "2     103333.0\n",
              "3      85000.0\n",
              "4          NaN\n",
              "5     116666.0\n",
              "6      75000.0\n",
              "7      46666.0\n",
              "8     150000.0\n",
              "9      41666.0\n",
              "10     86000.0\n",
              "11    136666.0\n",
              "12     70000.0\n",
              "13    170000.0\n",
              "14     48000.0\n",
              "15     88000.0\n",
              "16    130000.0\n",
              "17     97500.0\n",
              "18         NaN\n",
              "19    130000.0\n",
              "Name: Cust_Month_Income, dtype: float64"
            ]
          },
          "metadata": {},
          "execution_count": 19
        }
      ]
    },
    {
      "cell_type": "code",
      "source": [
        "# Below we will impute SimpleImputer class from the sklearn library:\n",
        "\n",
        "# Missing values imputation with SKLearn Imputer\n",
        "import numpy as np\n",
        "from sklearn.impute import SimpleImputer"
      ],
      "metadata": {
        "id": "MuqW4C55QeG3"
      },
      "execution_count": 20,
      "outputs": []
    },
    {
      "cell_type": "code",
      "source": [
        "'''\n",
        "The chosen features have continuous values so the measure to be chosen to impute the value is by mean.\n",
        "\n",
        "While initializing the SimpleImputer class we need to specify the strategy which measures imputation and also need to indicate the form of the missing values present inside the data. After initializing the class, by using the fit_trasnform method we can impute the missing values. \n",
        "\n",
        "'''\n",
        "imputer = SimpleImputer(missing_values=np.nan, strategy='mean') # strategy=\"most_frequent\" in case of categorical values\n",
        "data2['Cust_Month_Income'] = imputer.fit_transform(data2['Cust_Month_Income'].values.reshape(-1,1))[:,0]"
      ],
      "metadata": {
        "id": "enYQhWobShoC"
      },
      "execution_count": 21,
      "outputs": []
    },
    {
      "cell_type": "code",
      "source": [
        "print(data2['Cust_Month_Income'])"
      ],
      "metadata": {
        "colab": {
          "base_uri": "https://localhost:8080/"
        },
        "id": "p9dZclIPVyxs",
        "outputId": "4c5734f9-e8c5-4e01-b465-10d6691d0827"
      },
      "execution_count": 22,
      "outputs": [
        {
          "output_type": "stream",
          "name": "stdout",
          "text": [
            "0     170000.000000\n",
            "1     195000.000000\n",
            "2     103333.000000\n",
            "3      85000.000000\n",
            "4     107749.833333\n",
            "5     116666.000000\n",
            "6      75000.000000\n",
            "7      46666.000000\n",
            "8     150000.000000\n",
            "9      41666.000000\n",
            "10     86000.000000\n",
            "11    136666.000000\n",
            "12     70000.000000\n",
            "13    170000.000000\n",
            "14     48000.000000\n",
            "15     88000.000000\n",
            "16    130000.000000\n",
            "17     97500.000000\n",
            "18    107749.833333\n",
            "19    130000.000000\n",
            "Name: Cust_Month_Income, dtype: float64\n"
          ]
        }
      ]
    },
    {
      "cell_type": "code",
      "source": [
        "'''\n",
        "Step 3: Defining features\n",
        "\n",
        "So far now we have imputed all the missing values, now it turns to define the input and output features from the cleaned dataset. \n",
        "\n",
        "Before defining input features let’s take look at the cleaned dataset.\n",
        "\n",
        "'''\n",
        "data.head()"
      ],
      "metadata": {
        "colab": {
          "base_uri": "https://localhost:8080/",
          "height": 270
        },
        "id": "yqCZ-tKyV3wT",
        "outputId": "8521b126-2676-4ea2-91e0-add79e7eccdd"
      },
      "execution_count": 23,
      "outputs": [
        {
          "output_type": "execute_result",
          "data": {
            "text/plain": [
              "   S.No.  Cust_ID  Cust_City  Cust_Age  Cust_Fam_Memb  Cust_Month_Income  \\\n",
              "0      1   100089  Bangalore      51.0            3.0      170000.000000   \n",
              "1      2   100018  Bangalore      39.0            2.0      195000.000000   \n",
              "2      3   100070  Hyderabad      36.0            3.0      103333.000000   \n",
              "3      4   100090  Bangalore      34.0            4.0       85000.000000   \n",
              "4      5   100016  Bangalore      22.0            6.0      107749.833333   \n",
              "\n",
              "   Cust_Purchase  \n",
              "0   28333.000000  \n",
              "1   15551.222222  \n",
              "2   17222.000000  \n",
              "3   10625.000000  \n",
              "4    3055.000000  "
            ],
            "text/html": [
              "\n",
              "  <div id=\"df-45d3e56e-08d4-4401-9ff0-c8fe05f8a630\">\n",
              "    <div class=\"colab-df-container\">\n",
              "      <div>\n",
              "<style scoped>\n",
              "    .dataframe tbody tr th:only-of-type {\n",
              "        vertical-align: middle;\n",
              "    }\n",
              "\n",
              "    .dataframe tbody tr th {\n",
              "        vertical-align: top;\n",
              "    }\n",
              "\n",
              "    .dataframe thead th {\n",
              "        text-align: right;\n",
              "    }\n",
              "</style>\n",
              "<table border=\"1\" class=\"dataframe\">\n",
              "  <thead>\n",
              "    <tr style=\"text-align: right;\">\n",
              "      <th></th>\n",
              "      <th>S.No.</th>\n",
              "      <th>Cust_ID</th>\n",
              "      <th>Cust_City</th>\n",
              "      <th>Cust_Age</th>\n",
              "      <th>Cust_Fam_Memb</th>\n",
              "      <th>Cust_Month_Income</th>\n",
              "      <th>Cust_Purchase</th>\n",
              "    </tr>\n",
              "  </thead>\n",
              "  <tbody>\n",
              "    <tr>\n",
              "      <th>0</th>\n",
              "      <td>1</td>\n",
              "      <td>100089</td>\n",
              "      <td>Bangalore</td>\n",
              "      <td>51.0</td>\n",
              "      <td>3.0</td>\n",
              "      <td>170000.000000</td>\n",
              "      <td>28333.000000</td>\n",
              "    </tr>\n",
              "    <tr>\n",
              "      <th>1</th>\n",
              "      <td>2</td>\n",
              "      <td>100018</td>\n",
              "      <td>Bangalore</td>\n",
              "      <td>39.0</td>\n",
              "      <td>2.0</td>\n",
              "      <td>195000.000000</td>\n",
              "      <td>15551.222222</td>\n",
              "    </tr>\n",
              "    <tr>\n",
              "      <th>2</th>\n",
              "      <td>3</td>\n",
              "      <td>100070</td>\n",
              "      <td>Hyderabad</td>\n",
              "      <td>36.0</td>\n",
              "      <td>3.0</td>\n",
              "      <td>103333.000000</td>\n",
              "      <td>17222.000000</td>\n",
              "    </tr>\n",
              "    <tr>\n",
              "      <th>3</th>\n",
              "      <td>4</td>\n",
              "      <td>100090</td>\n",
              "      <td>Bangalore</td>\n",
              "      <td>34.0</td>\n",
              "      <td>4.0</td>\n",
              "      <td>85000.000000</td>\n",
              "      <td>10625.000000</td>\n",
              "    </tr>\n",
              "    <tr>\n",
              "      <th>4</th>\n",
              "      <td>5</td>\n",
              "      <td>100016</td>\n",
              "      <td>Bangalore</td>\n",
              "      <td>22.0</td>\n",
              "      <td>6.0</td>\n",
              "      <td>107749.833333</td>\n",
              "      <td>3055.000000</td>\n",
              "    </tr>\n",
              "  </tbody>\n",
              "</table>\n",
              "</div>\n",
              "      <button class=\"colab-df-convert\" onclick=\"convertToInteractive('df-45d3e56e-08d4-4401-9ff0-c8fe05f8a630')\"\n",
              "              title=\"Convert this dataframe to an interactive table.\"\n",
              "              style=\"display:none;\">\n",
              "        \n",
              "  <svg xmlns=\"http://www.w3.org/2000/svg\" height=\"24px\"viewBox=\"0 0 24 24\"\n",
              "       width=\"24px\">\n",
              "    <path d=\"M0 0h24v24H0V0z\" fill=\"none\"/>\n",
              "    <path d=\"M18.56 5.44l.94 2.06.94-2.06 2.06-.94-2.06-.94-.94-2.06-.94 2.06-2.06.94zm-11 1L8.5 8.5l.94-2.06 2.06-.94-2.06-.94L8.5 2.5l-.94 2.06-2.06.94zm10 10l.94 2.06.94-2.06 2.06-.94-2.06-.94-.94-2.06-.94 2.06-2.06.94z\"/><path d=\"M17.41 7.96l-1.37-1.37c-.4-.4-.92-.59-1.43-.59-.52 0-1.04.2-1.43.59L10.3 9.45l-7.72 7.72c-.78.78-.78 2.05 0 2.83L4 21.41c.39.39.9.59 1.41.59.51 0 1.02-.2 1.41-.59l7.78-7.78 2.81-2.81c.8-.78.8-2.07 0-2.86zM5.41 20L4 18.59l7.72-7.72 1.47 1.35L5.41 20z\"/>\n",
              "  </svg>\n",
              "      </button>\n",
              "      \n",
              "  <style>\n",
              "    .colab-df-container {\n",
              "      display:flex;\n",
              "      flex-wrap:wrap;\n",
              "      gap: 12px;\n",
              "    }\n",
              "\n",
              "    .colab-df-convert {\n",
              "      background-color: #E8F0FE;\n",
              "      border: none;\n",
              "      border-radius: 50%;\n",
              "      cursor: pointer;\n",
              "      display: none;\n",
              "      fill: #1967D2;\n",
              "      height: 32px;\n",
              "      padding: 0 0 0 0;\n",
              "      width: 32px;\n",
              "    }\n",
              "\n",
              "    .colab-df-convert:hover {\n",
              "      background-color: #E2EBFA;\n",
              "      box-shadow: 0px 1px 2px rgba(60, 64, 67, 0.3), 0px 1px 3px 1px rgba(60, 64, 67, 0.15);\n",
              "      fill: #174EA6;\n",
              "    }\n",
              "\n",
              "    [theme=dark] .colab-df-convert {\n",
              "      background-color: #3B4455;\n",
              "      fill: #D2E3FC;\n",
              "    }\n",
              "\n",
              "    [theme=dark] .colab-df-convert:hover {\n",
              "      background-color: #434B5C;\n",
              "      box-shadow: 0px 1px 3px 1px rgba(0, 0, 0, 0.15);\n",
              "      filter: drop-shadow(0px 1px 2px rgba(0, 0, 0, 0.3));\n",
              "      fill: #FFFFFF;\n",
              "    }\n",
              "  </style>\n",
              "\n",
              "      <script>\n",
              "        const buttonEl =\n",
              "          document.querySelector('#df-45d3e56e-08d4-4401-9ff0-c8fe05f8a630 button.colab-df-convert');\n",
              "        buttonEl.style.display =\n",
              "          google.colab.kernel.accessAllowed ? 'block' : 'none';\n",
              "\n",
              "        async function convertToInteractive(key) {\n",
              "          const element = document.querySelector('#df-45d3e56e-08d4-4401-9ff0-c8fe05f8a630');\n",
              "          const dataTable =\n",
              "            await google.colab.kernel.invokeFunction('convertToInteractive',\n",
              "                                                     [key], {});\n",
              "          if (!dataTable) return;\n",
              "\n",
              "          const docLinkHtml = 'Like what you see? Visit the ' +\n",
              "            '<a target=\"_blank\" href=https://colab.research.google.com/notebooks/data_table.ipynb>data table notebook</a>'\n",
              "            + ' to learn more about interactive tables.';\n",
              "          element.innerHTML = '';\n",
              "          dataTable['output_type'] = 'display_data';\n",
              "          await google.colab.output.renderOutput(dataTable, element);\n",
              "          const docLink = document.createElement('div');\n",
              "          docLink.innerHTML = docLinkHtml;\n",
              "          element.appendChild(docLink);\n",
              "        }\n",
              "      </script>\n",
              "    </div>\n",
              "  </div>\n",
              "  "
            ]
          },
          "metadata": {},
          "execution_count": 23
        }
      ]
    },
    {
      "cell_type": "code",
      "source": [
        "# Our input features will be the columns starting from Cust_ID to the Cust_month_income this can be extracted as below.\n",
        "# Defining input features\n",
        "input_features = data.iloc[:,1:-1].values\n",
        "input_features.shape"
      ],
      "metadata": {
        "colab": {
          "base_uri": "https://localhost:8080/"
        },
        "id": "UXrx0wyQWKm2",
        "outputId": "c31adf1d-f572-4639-9d86-e603398d1ebc"
      },
      "execution_count": 27,
      "outputs": [
        {
          "output_type": "execute_result",
          "data": {
            "text/plain": [
              "(20, 5)"
            ]
          },
          "metadata": {},
          "execution_count": 27
        }
      ]
    },
    {
      "cell_type": "code",
      "source": [
        "'''\n",
        "As you can see out of 7 columns we have defined 5 columns as input features, let’s take look at these defined input feature patterns.\n",
        "\n",
        "'''\n",
        "print(input_features)"
      ],
      "metadata": {
        "colab": {
          "base_uri": "https://localhost:8080/"
        },
        "id": "ZUX_x9INW_DY",
        "outputId": "d9213240-b35e-4a27-8096-c26a130ff14d"
      },
      "execution_count": 28,
      "outputs": [
        {
          "output_type": "stream",
          "name": "stdout",
          "text": [
            "[[100089 'Bangalore' 51.0 3.0 170000.0]\n",
            " [100018 'Bangalore' 39.0 2.0 195000.0]\n",
            " [100070 'Hyderabad' 36.0 3.0 103333.0]\n",
            " [100090 'Bangalore' 34.0 4.0 85000.0]\n",
            " [100016 'Bangalore' 22.0 6.0 107749.83333333333]\n",
            " [100033 'Hyderabad' 35.0 3.0 116666.0]\n",
            " [100035 'Bangalore' 30.0 4.0 75000.0]\n",
            " [100067 'Bangalore' 36.0 6.0 46666.0]\n",
            " [100058 'Bangalore' 30.0 2.0 150000.0]\n",
            " [100051 'Pune' 25.0 6.0 41666.0]\n",
            " [100024 'Bangalore' 43.0 5.0 86000.0]\n",
            " [100091 'Hyderabad' 41.0 3.0 136666.0]\n",
            " [100070 'Bangalore' 42.0 6.0 70000.0]\n",
            " [100044 'Pune' 51.0 3.0 170000.0]\n",
            " [100094 'Hyderabad' 24.0 5.0 48000.0]\n",
            " [100044 'Bangalore' 44.0 3.0 88000.0]\n",
            " [100064 'Bangalore' 26.0 2.0 130000.0]\n",
            " [100096 'Bangalore' 39.0 4.0 97500.0]\n",
            " [100053 'Bangalore' 33.0 4.0 107749.83333333333]\n",
            " [100066 'Bangalore' 39.0 3.0 130000.0]]\n"
          ]
        }
      ]
    },
    {
      "cell_type": "code",
      "source": [
        "# Let’s check the shape of the defined input features. \n",
        "\n",
        "input_features.shape\n"
      ],
      "metadata": {
        "colab": {
          "base_uri": "https://localhost:8080/"
        },
        "id": "4u14vYP0XCFP",
        "outputId": "f0062aab-2eee-4718-96ae-0a3fa6856787"
      },
      "execution_count": 26,
      "outputs": [
        {
          "output_type": "execute_result",
          "data": {
            "text/plain": [
              "(20, 5)"
            ]
          },
          "metadata": {},
          "execution_count": 26
        }
      ]
    },
    {
      "cell_type": "code",
      "source": [
        "'''\n",
        "Now lastly in this step, we will define the output feature which is the last column of the dataset. \n",
        "\n",
        "'''\n",
        "\n",
        "# Defining output feature\n",
        "ouput_feature = data.iloc[:,-1].values\n",
        "\n",
        "\n"
      ],
      "metadata": {
        "id": "Z8hXTBzJXZu2"
      },
      "execution_count": 29,
      "outputs": []
    },
    {
      "cell_type": "code",
      "source": [
        "# Shape of the output feature\n",
        "ouput_feature.shape"
      ],
      "metadata": {
        "colab": {
          "base_uri": "https://localhost:8080/"
        },
        "id": "1JJ5oIqvX__e",
        "outputId": "36e6418d-a907-49b1-ff60-37a8e33b2b07"
      },
      "execution_count": 30,
      "outputs": [
        {
          "output_type": "execute_result",
          "data": {
            "text/plain": [
              "(20,)"
            ]
          },
          "metadata": {},
          "execution_count": 30
        }
      ]
    },
    {
      "cell_type": "code",
      "source": [
        "'''\n",
        "Creating training and testing set\n",
        "\n",
        "Creating the training and testing dataset is considered to be the last step of the data preprocessing. In this step, we separate a part of the data into a training set which will be exclusively only used to train the dataset and by using the test set we evaluate the generalization capabilities of the model.  \n",
        "\n",
        "This process of splitting the data into training and testing is usually done train_test_split method given by the sklearn library.  Below we will import that class from the sklearn library. \n",
        "\n",
        "'''\n",
        "\n",
        "# Creating training and test patterns\n",
        "from sklearn.model_selection import train_test_split"
      ],
      "metadata": {
        "id": "dQr3c8yBYCE9"
      },
      "execution_count": 31,
      "outputs": []
    },
    {
      "cell_type": "code",
      "source": [
        "X_train, X_test, y_train, y_test = train_test_split(input_features, ouput_feature, train_size=0.8)\n"
      ],
      "metadata": {
        "id": "dkq0bGOPYLcP"
      },
      "execution_count": 32,
      "outputs": []
    },
    {
      "cell_type": "code",
      "source": [
        "# Checking the shape of train and test sets\n",
        "\n",
        "# Shape of training and test patterns\n",
        "print('Size of input training patterns: ', X_train.shape)\n",
        "print('Size of output training patterns: ', y_train.shape)\n",
        "print('Size of input test patterns: ', X_test.shape)\n",
        "print('Size of output test patterns: ', y_test.shape)"
      ],
      "metadata": {
        "colab": {
          "base_uri": "https://localhost:8080/"
        },
        "id": "bnO7a6vsYOru",
        "outputId": "750efc7d-323d-471a-dd07-5255a9c7514b"
      },
      "execution_count": 33,
      "outputs": [
        {
          "output_type": "stream",
          "name": "stdout",
          "text": [
            "Size of input training patterns:  (16, 5)\n",
            "Size of output training patterns:  (16,)\n",
            "Size of input test patterns:  (4, 5)\n",
            "Size of output test patterns:  (4,)\n"
          ]
        }
      ]
    },
    {
      "cell_type": "code",
      "source": [
        "# we have successfully created a training and testing test. "
      ],
      "metadata": {
        "id": "zgWtvgzCYqup"
      },
      "execution_count": null,
      "outputs": []
    }
  ]
}